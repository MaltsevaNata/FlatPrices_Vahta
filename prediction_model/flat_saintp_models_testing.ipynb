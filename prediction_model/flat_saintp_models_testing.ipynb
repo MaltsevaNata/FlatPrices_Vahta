{
  "nbformat": 4,
  "nbformat_minor": 0,
  "metadata": {
    "kernelspec": {
      "display_name": "Python 3",
      "language": "python",
      "name": "python3"
    },
    "language_info": {
      "codemirror_mode": {
        "name": "ipython",
        "version": 3
      },
      "file_extension": ".py",
      "mimetype": "text/x-python",
      "name": "python",
      "nbconvert_exporter": "python",
      "pygments_lexer": "ipython3",
      "version": "3.7.4"
    },
    "colab": {
      "name": "flat_saintp_models_testing",
      "provenance": []
    }
  },
  "cells": [
    {
      "cell_type": "code",
      "metadata": {
        "id": "3Jhi2RJc6fjz"
      },
      "source": [
        "import xgboost as xgb\n",
        "import lightgbm as lgbm\n",
        "from sklearn.linear_model import SGDRegressor\n",
        "from sklearn.linear_model import Ridge\n",
        "from sklearn.linear_model import Lasso\n",
        "from sklearn.linear_model import ElasticNet\n",
        "from sklearn.linear_model import LarsCV\n",
        "from sklearn.linear_model import BayesianRidge\n",
        "from sklearn.neighbors import KNeighborsRegressor\n",
        "from sklearn.tree import DecisionTreeRegressor\n",
        "from sklearn.svm import LinearSVR\n",
        "from sklearn.svm import SVR\n",
        "from sklearn.ensemble import AdaBoostRegressor\n",
        "from sklearn.ensemble import BaggingRegressor\n",
        "from sklearn.ensemble import ExtraTreesRegressor\n",
        "from sklearn.ensemble import GradientBoostingRegressor\n",
        "from sklearn.ensemble import RandomForestRegressor\n",
        "from sklearn.model_selection import KFold\n",
        "from sklearn.model_selection import cross_val_score\n",
        "from sklearn.pipeline import Pipeline\n",
        "from sklearn.preprocessing import StandardScaler\n",
        "from sklearn.preprocessing import Normalizer\n",
        "import pandas as pd\n",
        "import numpy as np\n",
        "from geopy.distance import geodesic \n",
        "import math\n",
        "from sklearn.metrics import mean_absolute_error, r2_score, median_absolute_error\n",
        "from sklearn.model_selection import train_test_split, GridSearchCV, RandomizedSearchCV\n",
        "from sklearn.preprocessing import LabelEncoder\n",
        "import matplotlib.pyplot as plt\n",
        "%matplotlib inline\n",
        "%config InlineBackend.figure_format = 'retina' \n",
        "import warnings\n",
        "warnings.filterwarnings('ignore')"
      ],
      "execution_count": null,
      "outputs": []
    },
    {
      "cell_type": "code",
      "metadata": {
        "id": "ImqqhP5c8y1O"
      },
      "source": [
        "num_folds = 10\n",
        "n_iter = 1000\n",
        "n_estimators = 100\n",
        "scoring = 'r2'\n",
        "\n",
        "models = []\n",
        "models.append(('R', Ridge()))\n",
        "models.append(('L', Lasso()))\n",
        "models.append(('ELN', ElasticNet()))\n",
        "models.append(('LARS', LarsCV()))\n",
        "models.append(('BR', BayesianRidge(n_iter=n_iter)))\n",
        "models.append(('KNR', KNeighborsRegressor()))\n",
        "models.append(('DTR', DecisionTreeRegressor()))\n",
        "models.append(('LSVR', LinearSVR()))\n",
        "models.append(('SVR', SVR()))\n",
        "models.append(('ABR', AdaBoostRegressor(n_estimators=n_estimators)))\n",
        "models.append(('BR', BaggingRegressor(n_estimators=n_estimators)))\n",
        "models.append(('ETR', ExtraTreesRegressor(n_estimators=n_estimators)))\n",
        "models.append(('GBR', GradientBoostingRegressor(n_estimators=n_estimators)))\n",
        "models.append(('RFR', RandomForestRegressor(n_estimators=n_estimators)))\n",
        "models.append(('XGB', xgb.XGBRegressor(n_estimators=n_estimators)))\n",
        "models.append(('LGBM', lgbm.LGBMRegressor(n_estimators=n_estimators)))\n"
      ],
      "execution_count": null,
      "outputs": []
    },
    {
      "cell_type": "code",
      "metadata": {
        "id": "UNwhRoMX_IhZ"
      },
      "source": [
        ""
      ],
      "execution_count": null,
      "outputs": []
    },
    {
      "cell_type": "code",
      "metadata": {
        "id": "ZKQVIAPu-ipA",
        "colab": {
          "base_uri": "https://localhost:8080/"
        },
        "outputId": "c63d572e-40bb-4635-89c9-aaded5864957"
      },
      "source": [
        "df = pd.read_csv('https://raw.githubusercontent.com/MaltsevaNata/FlatPrices_Vahta/master/prediction_model/flat_spb_complete.csv')\n",
        "\n",
        "def get_azimuth(lat, lng):\n",
        " \n",
        "    rad = 6372795\n",
        "\n",
        "    llat1 = city_center_coordinates[0]\n",
        "    llong1 = city_center_coordinates[1]\n",
        "    llat2 = lat\n",
        "    llong2 = lng\n",
        "\n",
        "    lat1 = llat1*math.pi/180.\n",
        "    lat2 = llat2*math.pi/180.\n",
        "    long1 = llong1*math.pi/180.\n",
        "    long2 = llong2*math.pi/180.\n",
        "\n",
        "    cl1 = math.cos(lat1)\n",
        "    cl2 = math.cos(lat2)\n",
        "    sl1 = math.sin(lat1)\n",
        "    sl2 = math.sin(lat2)\n",
        "    delta = long2 - long1\n",
        "    cdelta = math.cos(delta)\n",
        "    sdelta = math.sin(delta)\n",
        "\n",
        "    y = math.sqrt(math.pow(cl2*sdelta,2)+math.pow(cl1*sl2-sl1*cl2*cdelta,2))\n",
        "    x = sl1*sl2+cl1*cl2*cdelta\n",
        "    ad = math.atan2(y,x)\n",
        "\n",
        "    x = (cl1*sl2) - (sl1*cl2*cdelta)\n",
        "    y = sdelta*cl2\n",
        "    z = math.degrees(math.atan(-y/x))\n",
        "\n",
        "    if (x < 0):\n",
        "        z = z+180.\n",
        "\n",
        "    z2 = (z+180.) % 360. - 180.\n",
        "    z2 = - math.radians(z2)\n",
        "    anglerad2 = z2 - ((2*math.pi)*math.floor((z2/(2*math.pi))) )\n",
        "    angledeg = (anglerad2*180.)/math.pi\n",
        "    \n",
        "    return round(angledeg, 2)\n",
        "\n",
        "from geopy.distance import geodesic\n",
        "import math\n",
        "import numpy as np\n",
        "from sklearn.preprocessing import LabelEncoder\n",
        "\n",
        "city_center_coordinates = [59.9375, 30.3086]\n",
        "df['distance'] = list(map(lambda x, y: geodesic(city_center_coordinates, [x, y]).meters, df['lat'], df['lng']))\n",
        "df['azimuth'] = list(map(lambda x, y: get_azimuth(x, y), df['lat'], df['lng']))     \n",
        "\n",
        "df = df.loc[(df['distance'] < 30000)] \n",
        "df['distance'] = df['distance'].round(0)\n",
        "df['azimuth'] = df['azimuth'].round(0)\n",
        "\n",
        "df.info()"
      ],
      "execution_count": 81,
      "outputs": [
        {
          "output_type": "stream",
          "name": "stdout",
          "text": [
            "<class 'pandas.core.frame.DataFrame'>\n",
            "Int64Index: 2378 entries, 0 to 2377\n",
            "Data columns (total 13 columns):\n",
            " #   Column         Non-Null Count  Dtype  \n",
            "---  ------         --------------  -----  \n",
            " 0   price          2378 non-null   int64  \n",
            " 1   total_area     2378 non-null   float64\n",
            " 2   living_area    2378 non-null   float64\n",
            " 3   kitchen_area   2378 non-null   float64\n",
            " 4   floor_number   2378 non-null   float64\n",
            " 5   total_floors   2378 non-null   float64\n",
            " 6   year           2378 non-null   float64\n",
            " 7   material_type  2378 non-null   int64  \n",
            " 8   lng            2378 non-null   float64\n",
            " 9   lat            2378 non-null   float64\n",
            " 10  underground    2378 non-null   int64  \n",
            " 11  distance       2378 non-null   float64\n",
            " 12  azimuth        2378 non-null   float64\n",
            "dtypes: float64(10), int64(3)\n",
            "memory usage: 260.1 KB\n"
          ]
        }
      ]
    },
    {
      "cell_type": "code",
      "metadata": {
        "id": "aMbk0DbD_czx",
        "colab": {
          "base_uri": "https://localhost:8080/"
        },
        "outputId": "bbe20ab0-6b58-43d1-a319-9c39f28e427b"
      },
      "source": [
        "first_quartile = df.quantile(q=0.25)\n",
        "third_quartile = df.quantile(q=0.75)\n",
        "IQR = third_quartile - first_quartile\n",
        "outliers = df[(df > (third_quartile + 1.5 * IQR)) | (df < (first_quartile - 1.5 * IQR))].count(axis=1)\n",
        "outliers.sort_values(axis=0, ascending=False, inplace=True)\n",
        "\n",
        "# Deleting some lines\n",
        "outliers = outliers.head(100)\n",
        "df.drop(outliers.index, inplace=True)\n",
        "\n",
        "categorical_columns = df.columns[df.dtypes == 'object']\n",
        "labelencoder = LabelEncoder()\n",
        "for column in categorical_columns:\n",
        "    df[column] = labelencoder.fit_transform(df[column])\n",
        "    print(dict(enumerate(labelencoder.classes_)))\n",
        "\n",
        "df.info()"
      ],
      "execution_count": null,
      "outputs": [
        {
          "output_type": "stream",
          "name": "stdout",
          "text": [
            "{0: 'block', 1: 'brick', 2: 'monolith', 3: 'monolithBrick', 4: 'old', 5: 'panel', 6: 'stalin', 7: 'wireframe'}\n",
            "<class 'pandas.core.frame.DataFrame'>\n",
            "Int64Index: 5181 entries, 0 to 9831\n",
            "Data columns (total 13 columns):\n",
            " #   Column         Non-Null Count  Dtype  \n",
            "---  ------         --------------  -----  \n",
            " 0   total_area     5181 non-null   float64\n",
            " 1   living_area    5181 non-null   float64\n",
            " 2   kitchen_area   5181 non-null   float64\n",
            " 3   floor_number   5181 non-null   int64  \n",
            " 4   total_floors   5181 non-null   int64  \n",
            " 5   year           5181 non-null   float64\n",
            " 6   material_type  5181 non-null   int64  \n",
            " 7   lng            5181 non-null   float64\n",
            " 8   lat            5181 non-null   float64\n",
            " 9   underground    5181 non-null   int64  \n",
            " 10  price          5181 non-null   int64  \n",
            " 11  distance       5181 non-null   float64\n",
            " 12  azimuth        5181 non-null   float64\n",
            "dtypes: float64(8), int64(5)\n",
            "memory usage: 566.7 KB\n"
          ]
        }
      ]
    },
    {
      "cell_type": "code",
      "metadata": {
        "id": "8gQMs7C1_hRD"
      },
      "source": [
        "y = df['price']\n",
        "features = [\n",
        "            'total_area',\n",
        "            'living_area',\n",
        "            'kitchen_area',\n",
        "            'floor_number',\n",
        "            'total_floors',\n",
        "            'year',\n",
        "            'material_type',\n",
        "            'underground',\n",
        "            'distance',\n",
        "            'azimuth'\n",
        "           ]\n",
        "\n",
        "X = df[features]\n",
        "train_X, val_X, train_y, val_y = train_test_split(X, y, random_state=1, test_size=0.15)"
      ],
      "execution_count": 82,
      "outputs": []
    },
    {
      "cell_type": "code",
      "metadata": {
        "id": "2yW4nw6Q_opb",
        "colab": {
          "base_uri": "https://localhost:8080/"
        },
        "outputId": "ec5483c3-2860-4668-bda8-351724b31308"
      },
      "source": [
        "scores = []\n",
        "names = []\n",
        "results = []\n",
        "predictions = []\n",
        "msg_row = []\n",
        "for name, model in models:\n",
        "    kfold = KFold(n_splits=num_folds, random_state=None)\n",
        "    cv_results = cross_val_score(model,train_X, train_y, cv=kfold, scoring=scoring)\n",
        "    names.append(name)\n",
        "    results.append(cv_results)\n",
        "    m_fit = model.fit(train_X, train_y)\n",
        "    m_predict = model.predict(val_X)\n",
        "    predictions.append(m_predict)\n",
        "    m_score = model.score(val_X, val_y)\n",
        "    scores.append(m_score)\n",
        "    msg = \"%s: train = %.3f (%.3f) / test = %.3f\" % (name, cv_results.mean(), cv_results.std(), m_score)\n",
        "    msg_row.append(msg)\n",
        "    print(msg)"
      ],
      "execution_count": 83,
      "outputs": [
        {
          "output_type": "stream",
          "name": "stdout",
          "text": [
            "R: train = 0.725 (0.065) / test = 0.701\n",
            "L: train = 0.725 (0.065) / test = 0.701\n",
            "ELN: train = 0.725 (0.065) / test = 0.703\n",
            "LARS: train = 0.725 (0.065) / test = 0.701\n",
            "BR: train = 0.725 (0.065) / test = 0.703\n",
            "KNR: train = 0.642 (0.102) / test = 0.604\n",
            "DTR: train = 0.763 (0.129) / test = 0.728\n",
            "LSVR: train = 0.259 (0.057) / test = 0.308\n",
            "SVR: train = -0.097 (0.031) / test = -0.087\n",
            "ABR: train = 0.254 (0.278) / test = -0.334\n",
            "BR: train = 0.811 (0.161) / test = 0.803\n",
            "ETR: train = 0.812 (0.160) / test = 0.825\n",
            "GBR: train = 0.710 (0.420) / test = 0.845\n",
            "RFR: train = 0.810 (0.172) / test = 0.781\n",
            "[19:12:38] WARNING: /workspace/src/objective/regression_obj.cu:152: reg:linear is now deprecated in favor of reg:squarederror.\n",
            "[19:12:38] WARNING: /workspace/src/objective/regression_obj.cu:152: reg:linear is now deprecated in favor of reg:squarederror.\n",
            "[19:12:38] WARNING: /workspace/src/objective/regression_obj.cu:152: reg:linear is now deprecated in favor of reg:squarederror.\n",
            "[19:12:38] WARNING: /workspace/src/objective/regression_obj.cu:152: reg:linear is now deprecated in favor of reg:squarederror.\n",
            "[19:12:39] WARNING: /workspace/src/objective/regression_obj.cu:152: reg:linear is now deprecated in favor of reg:squarederror.\n",
            "[19:12:39] WARNING: /workspace/src/objective/regression_obj.cu:152: reg:linear is now deprecated in favor of reg:squarederror.\n",
            "[19:12:39] WARNING: /workspace/src/objective/regression_obj.cu:152: reg:linear is now deprecated in favor of reg:squarederror.\n",
            "[19:12:39] WARNING: /workspace/src/objective/regression_obj.cu:152: reg:linear is now deprecated in favor of reg:squarederror.\n",
            "[19:12:39] WARNING: /workspace/src/objective/regression_obj.cu:152: reg:linear is now deprecated in favor of reg:squarederror.\n",
            "[19:12:39] WARNING: /workspace/src/objective/regression_obj.cu:152: reg:linear is now deprecated in favor of reg:squarederror.\n",
            "[19:12:39] WARNING: /workspace/src/objective/regression_obj.cu:152: reg:linear is now deprecated in favor of reg:squarederror.\n",
            "XGB: train = 0.785 (0.204) / test = 0.833\n",
            "LGBM: train = 0.798 (0.093) / test = 0.799\n"
          ]
        }
      ]
    },
    {
      "cell_type": "markdown",
      "metadata": {
        "id": "Frk0rS4mC88S"
      },
      "source": [
        "Best result: BR, ETR, RFR, LGBM"
      ]
    },
    {
      "cell_type": "markdown",
      "metadata": {
        "id": "Ida4PR4PDFYE"
      },
      "source": [
        "Improving learning parameters for this methods:"
      ]
    },
    {
      "cell_type": "code",
      "metadata": {
        "id": "QyxzdtU7DM3O"
      },
      "source": [
        "def mean_absolute_percentage_error(y_true, y_pred): \n",
        "    y_true, y_pred = np.array(y_true), np.array(y_pred)\n",
        "    return np.mean(np.abs((y_true - y_pred) / y_true)) * 100\n",
        "\n",
        "#Вычисляет медианную абсолютную процентную ошибку\n",
        "def median_absolute_percentage_error(y_true, y_pred): \n",
        "    y_true, y_pred = np.array(y_true), np.array(y_pred)\n",
        "    return np.median(np.abs((y_true - y_pred) / y_true)) * 100\n",
        "\n",
        "#Печатает рассчитанные значения коэффициента детерминации, средней и медианной абсолютных ошибок\n",
        "def print_metrics(prediction, val_y):\n",
        "    val_mae = mean_absolute_error(val_y, prediction)\n",
        "    median_AE = median_absolute_error(val_y, prediction)\n",
        "    r2 = r2_score(val_y, prediction)\n",
        "\n",
        "    print('')\n",
        "    print('R\\u00b2: {:.2}'.format(r2))\n",
        "    print('')\n",
        "    print('Mean absolute error: {:.3} %'.format(mean_absolute_percentage_error(val_y, prediction)))\n",
        "    print('Median absolute error: {:.3} %'.format(median_absolute_percentage_error(val_y, prediction)))"
      ],
      "execution_count": 84,
      "outputs": []
    },
    {
      "cell_type": "code",
      "metadata": {
        "id": "ZTt_MyhmDaF5",
        "colab": {
          "base_uri": "https://localhost:8080/"
        },
        "outputId": "3dd2a188-53e1-4573-a390-d3934d1ec4d2"
      },
      "source": [
        "rf_model = RandomForestRegressor(n_estimators=100, \n",
        "                                 n_jobs=-1,  \n",
        "                                 bootstrap=True,\n",
        "                                 criterion='mse',\n",
        "                                 max_features=3,\n",
        "                                 random_state=7,\n",
        "                                 max_depth=55,\n",
        "                                 min_samples_split=2\n",
        "                                 )\n",
        "\n",
        "rf_model.fit(train_X, train_y)\n",
        "\n",
        "rf_prediction = rf_model.predict(val_X).round(0)\n",
        "\n",
        "print_metrics(rf_prediction, val_y)"
      ],
      "execution_count": 85,
      "outputs": [
        {
          "output_type": "stream",
          "name": "stdout",
          "text": [
            "\n",
            "R²: 0.83\n",
            "\n",
            "Mean absolute error: 8.88 %\n",
            "Median absolute error: 2.24 %\n"
          ]
        }
      ]
    },
    {
      "cell_type": "code",
      "metadata": {
        "id": "804nAEdcFAf3",
        "colab": {
          "base_uri": "https://localhost:8080/"
        },
        "outputId": "ac0576ca-40a3-49a6-c2d6-d7795ef78bce"
      },
      "source": [
        "br_model = BaggingRegressor(n_estimators=2000,\n",
        "                            max_samples=0.6,\n",
        "                            max_features=1.0)\n",
        "\n",
        "br_model.fit(train_X, train_y)\n",
        "\n",
        "br_prediction = br_model.predict(val_X).round(0)\n",
        "\n",
        "print_metrics(br_prediction, val_y)\n",
        "\n"
      ],
      "execution_count": 86,
      "outputs": [
        {
          "output_type": "stream",
          "name": "stdout",
          "text": [
            "\n",
            "R²: 0.79\n",
            "\n",
            "Mean absolute error: 9.71 %\n",
            "Median absolute error: 3.74 %\n"
          ]
        }
      ]
    },
    {
      "cell_type": "code",
      "metadata": {
        "colab": {
          "base_uri": "https://localhost:8080/"
        },
        "id": "9X-3vwTE8hUl",
        "outputId": "209c1053-e88c-4adb-cfba-ba3c1969c989"
      },
      "source": [
        "type(br_model)"
      ],
      "execution_count": 87,
      "outputs": [
        {
          "output_type": "execute_result",
          "data": {
            "text/plain": [
              "sklearn.ensemble._bagging.BaggingRegressor"
            ]
          },
          "metadata": {},
          "execution_count": 87
        }
      ]
    },
    {
      "cell_type": "code",
      "metadata": {
        "id": "nkWkFlxnHEqX",
        "colab": {
          "base_uri": "https://localhost:8080/"
        },
        "outputId": "117af566-9318-492a-a638-585b450e01eb"
      },
      "source": [
        "etr_model = ExtraTreesRegressor(n_estimators=1000,\n",
        "                                max_depth=50,\n",
        "                                min_samples_split=5,\n",
        "                                max_samples=0.7)\n",
        "etr_model.fit(train_X, train_y)\n",
        "\n",
        "etr_prediction = etr_model.predict(val_X).round(0)\n",
        "\n",
        "print_metrics(etr_prediction, val_y)"
      ],
      "execution_count": 88,
      "outputs": [
        {
          "output_type": "stream",
          "name": "stdout",
          "text": [
            "\n",
            "R²: 0.83\n",
            "\n",
            "Mean absolute error: 8.68 %\n",
            "Median absolute error: 1.48 %\n"
          ]
        }
      ]
    },
    {
      "cell_type": "code",
      "metadata": {
        "id": "FRi5cNfQISa6",
        "colab": {
          "base_uri": "https://localhost:8080/"
        },
        "outputId": "a7a23b4a-ae79-4791-f9c5-2e115a2b00bb"
      },
      "source": [
        "lgbm_model = lgbm.LGBMRegressor(boosting_type='dart',\n",
        "                                     num_leaves=50,\n",
        "                                     max_depth=-1,\n",
        "                                     n_estimators=100)\n",
        "lgbm_model.fit(train_X, train_y)\n",
        "\n",
        "lgbm_prediction = lgbm_model.predict(val_X).round(0)\n",
        "\n",
        "print_metrics(lgbm_prediction, val_y)"
      ],
      "execution_count": 89,
      "outputs": [
        {
          "output_type": "stream",
          "name": "stdout",
          "text": [
            "\n",
            "R²: 0.78\n",
            "\n",
            "Mean absolute error: 13.5 %\n",
            "Median absolute error: 11.3 %\n"
          ]
        }
      ]
    },
    {
      "cell_type": "code",
      "metadata": {
        "id": "Ai6n-85o-COq"
      },
      "source": [
        "from sklearn.externals import joblib"
      ],
      "execution_count": 91,
      "outputs": []
    },
    {
      "cell_type": "code",
      "metadata": {
        "colab": {
          "base_uri": "https://localhost:8080/"
        },
        "id": "hB13xxyf-DGY",
        "outputId": "f88810ca-2fae-4a23-8d22-bcbb2b029af4"
      },
      "source": [
        "with open('/content/gdrive/My Drive/saintp_model.pkl', 'wb') as f:\n",
        "  joblib.dump(etr_model, f)\n",
        "\n",
        "# Load from file\n",
        "with open('/content/gdrive/My Drive/saintp_model.pkl', 'rb') as f:\n",
        "  joblib_model = joblib.load(f)\n",
        "\n",
        "# Calculate the accuracy and predictions\n",
        "score = joblib_model.score(val_X, val_y)\n",
        "print(\"Test score: {0:.2f} %\".format(100 * score))\n"
      ],
      "execution_count": 92,
      "outputs": [
        {
          "output_type": "stream",
          "name": "stdout",
          "text": [
            "Test score: 82.67 %\n"
          ]
        }
      ]
    },
    {
      "cell_type": "code",
      "metadata": {
        "id": "A1GOHwkj-dd_"
      },
      "source": [
        ""
      ],
      "execution_count": null,
      "outputs": []
    }
  ]
}